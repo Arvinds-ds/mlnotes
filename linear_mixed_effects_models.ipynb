{
 "cells": [
  {
   "cell_type": "markdown",
   "metadata": {
    "ein.tags": [
     "worksheet-0"
    ],
    "slideshow": {
     "slide_type": "-"
    }
   },
   "source": [
    "# Linear Mixed Effects Models\n",
    "\n",
    "With linear mixed effects models, we wish to model a linear\n",
    "relationship for data points with inputs of varying type, categorized\n",
    "into subgroups, and associated to a real-valued output.\n",
    "\n",
    "We demonstrate with an example in Edward. A webpage version is available \n",
    "[here](http://edwardlib.org/tutorials/linear-mixed-effects-models)."
   ]
  },
  {
   "cell_type": "code",
   "execution_count": 1,
   "metadata": {
    "autoscroll": "json-false",
    "collapsed": true,
    "ein.tags": [
     "worksheet-0"
    ],
    "slideshow": {
     "slide_type": "-"
    }
   },
   "outputs": [],
   "source": [
    "%matplotlib inline\n",
    "from __future__ import absolute_import\n",
    "from __future__ import division\n",
    "from __future__ import print_function\n",
    "\n",
    "import edward as ed\n",
    "import pandas as pd\n",
    "import tensorflow as tf\n",
    "import matplotlib.pyplot as plt\n",
    "\n",
    "from edward.models import Normal\n",
    "from observations import insteval\n",
    "\n",
    "plt.style.use('ggplot')\n",
    "ed.set_seed(42)"
   ]
  },
  {
   "cell_type": "markdown",
   "metadata": {
    "ein.tags": [
     "worksheet-0"
    ],
    "slideshow": {
     "slide_type": "-"
    }
   },
   "source": [
    "## Data\n",
    "\n",
    "We use the `InstEval` data set from the popular\n",
    "[lme4 R package](http://lme4.r-forge.r-project.org) (Bates, Mächler, Bolker, & Walker, 2015).\n",
    "It is a data set of instructor evaluation ratings, where the inputs\n",
    "(covariates) include categories such as `students` and\n",
    "`departments`, and our response variable of interest is the instructor\n",
    "evaluation rating."
   ]
  },
  {
   "cell_type": "code",
   "execution_count": 2,
   "metadata": {
    "autoscroll": "json-false",
    "ein.tags": [
     "worksheet-0"
    ],
    "slideshow": {
     "slide_type": "-"
    }
   },
   "outputs": [
    {
     "data": {
      "text/html": [
       "<div>\n",
       "<style scoped>\n",
       "    .dataframe tbody tr th:only-of-type {\n",
       "        vertical-align: middle;\n",
       "    }\n",
       "\n",
       "    .dataframe tbody tr th {\n",
       "        vertical-align: top;\n",
       "    }\n",
       "\n",
       "    .dataframe thead th {\n",
       "        text-align: right;\n",
       "    }\n",
       "</style>\n",
       "<table border=\"1\" class=\"dataframe\">\n",
       "  <thead>\n",
       "    <tr style=\"text-align: right;\">\n",
       "      <th></th>\n",
       "      <th>s</th>\n",
       "      <th>d</th>\n",
       "      <th>studage</th>\n",
       "      <th>lectage</th>\n",
       "      <th>service</th>\n",
       "      <th>dept</th>\n",
       "      <th>y</th>\n",
       "      <th>dcodes</th>\n",
       "      <th>deptcodes</th>\n",
       "    </tr>\n",
       "  </thead>\n",
       "  <tbody>\n",
       "    <tr>\n",
       "      <th>66702</th>\n",
       "      <td>2714</td>\n",
       "      <td>474</td>\n",
       "      <td>8</td>\n",
       "      <td>5</td>\n",
       "      <td>1</td>\n",
       "      <td>1</td>\n",
       "      <td>4.0</td>\n",
       "      <td>248</td>\n",
       "      <td>0</td>\n",
       "    </tr>\n",
       "    <tr>\n",
       "      <th>51671</th>\n",
       "      <td>2074</td>\n",
       "      <td>102</td>\n",
       "      <td>8</td>\n",
       "      <td>1</td>\n",
       "      <td>1</td>\n",
       "      <td>1</td>\n",
       "      <td>2.0</td>\n",
       "      <td>55</td>\n",
       "      <td>0</td>\n",
       "    </tr>\n",
       "    <tr>\n",
       "      <th>35762</th>\n",
       "      <td>1456</td>\n",
       "      <td>139</td>\n",
       "      <td>6</td>\n",
       "      <td>4</td>\n",
       "      <td>0</td>\n",
       "      <td>12</td>\n",
       "      <td>2.0</td>\n",
       "      <td>73</td>\n",
       "      <td>11</td>\n",
       "    </tr>\n",
       "    <tr>\n",
       "      <th>43777</th>\n",
       "      <td>1772</td>\n",
       "      <td>2096</td>\n",
       "      <td>8</td>\n",
       "      <td>3</td>\n",
       "      <td>0</td>\n",
       "      <td>10</td>\n",
       "      <td>4.0</td>\n",
       "      <td>1092</td>\n",
       "      <td>9</td>\n",
       "    </tr>\n",
       "    <tr>\n",
       "      <th>4788</th>\n",
       "      <td>178</td>\n",
       "      <td>554</td>\n",
       "      <td>6</td>\n",
       "      <td>6</td>\n",
       "      <td>1</td>\n",
       "      <td>6</td>\n",
       "      <td>5.0</td>\n",
       "      <td>290</td>\n",
       "      <td>5</td>\n",
       "    </tr>\n",
       "  </tbody>\n",
       "</table>\n",
       "</div>"
      ],
      "text/plain": [
       "          s     d  studage  lectage  service  dept    y  dcodes  deptcodes\n",
       "66702  2714   474        8        5        1     1  4.0     248          0\n",
       "51671  2074   102        8        1        1     1  2.0      55          0\n",
       "35762  1456   139        6        4        0    12  2.0      73         11\n",
       "43777  1772  2096        8        3        0    10  4.0    1092          9\n",
       "4788    178   554        6        6        1     6  5.0     290          5"
      ]
     },
     "execution_count": 2,
     "metadata": {},
     "output_type": "execute_result"
    }
   ],
   "source": [
    "data, metadata = insteval(\"~/data\")\n",
    "data = pd.DataFrame(data, columns=metadata['columns'])\n",
    "\n",
    "# s - students - 1:2972\n",
    "# d - instructors - codes that need to be remapped\n",
    "# dept also needs to be remapped\n",
    "data['s'] = data['s'] - 1\n",
    "data['dcodes'] = data['d'].astype('category').cat.codes\n",
    "data['deptcodes'] = data['dept'].astype('category').cat.codes\n",
    "data['y'] = data['y'].values.astype(float)\n",
    "\n",
    "train = data.sample(frac=0.8)\n",
    "test = data.drop(train.index)\n",
    "\n",
    "train.head()"
   ]
  },
  {
   "cell_type": "markdown",
   "metadata": {
    "ein.tags": [
     "worksheet-0"
    ],
    "slideshow": {
     "slide_type": "-"
    }
   },
   "source": [
    "The data set denotes:\n",
    "+ `students` as `s`\n",
    "+ `instructors` as `d`\n",
    "+ `departments` as `dept`\n",
    "+ `service` as `service`"
   ]
  },
  {
   "cell_type": "code",
   "execution_count": 3,
   "metadata": {
    "autoscroll": "json-false",
    "collapsed": true,
    "ein.tags": [
     "worksheet-0"
    ],
    "slideshow": {
     "slide_type": "-"
    }
   },
   "outputs": [],
   "source": [
    "s_train = train['s'].values\n",
    "d_train = train['dcodes'].values\n",
    "dept_train = train['deptcodes'].values\n",
    "y_train = train['y'].values\n",
    "service_train = train['service'].values\n",
    "n_obs_train = train.shape[0]\n",
    "\n",
    "s_test = test['s'].values\n",
    "d_test = test['dcodes'].values\n",
    "dept_test = test['deptcodes'].values\n",
    "y_test = test['y'].values\n",
    "service_test = test['service'].values\n",
    "n_obs_test = test.shape[0]"
   ]
  },
  {
   "cell_type": "code",
   "execution_count": 4,
   "metadata": {
    "autoscroll": "json-false",
    "ein.tags": [
     "worksheet-0"
    ],
    "slideshow": {
     "slide_type": "-"
    }
   },
   "outputs": [
    {
     "name": "stdout",
     "output_type": "stream",
     "text": [
      "Number of students: 2972\n",
      "Number of instructors: 1128\n",
      "Number of departments: 14\n",
      "Number of observations: 58737\n"
     ]
    }
   ],
   "source": [
    "n_s = max(s_train) + 1  # number of students\n",
    "n_d = max(d_train) + 1  # number of instructors\n",
    "n_dept = max(dept_train) + 1  # number of departments\n",
    "n_obs = train.shape[0]  # number of observations\n",
    "\n",
    "print(\"Number of students: {}\".format(n_s))\n",
    "print(\"Number of instructors: {}\".format(n_d))\n",
    "print(\"Number of departments: {}\".format(n_dept))\n",
    "print(\"Number of observations: {}\".format(n_obs))"
   ]
  },
  {
   "cell_type": "markdown",
   "metadata": {
    "ein.tags": [
     "worksheet-0"
    ],
    "slideshow": {
     "slide_type": "-"
    }
   },
   "source": [
    "## Model\n",
    "\n",
    "With linear regression, one makes an independence assumption where\n",
    "each data point regresses with a constant slope among\n",
    "each other. In our setting, the observations come from\n",
    "groups which may have varying slopes and intercepts. Thus we'd like to\n",
    "build a model that can capture this behavior (Gelman & Hill, 2006).\n",
    "\n",
    "For examples of this phenomena:\n",
    "+ The observations from a single student are not independent of\n",
    "each other. Rather, some students may systematically give low (or\n",
    "high) lecture ratings.\n",
    "+ The observations from a single teacher are not independent of\n",
    "each other. We expect good teachers to get generally good ratings and\n",
    "bad teachers to get generally bad ratings.\n",
    "+ The observations from a single department are not independent of\n",
    "each other. One department may generally have dry material and thus be\n",
    "rated lower than others.\n",
    "\n",
    "\n",
    "Typical linear regression takes the form\n",
    "\n",
    "\\begin{equation*}\n",
    "\\mathbf{y} = \\mathbf{X}\\beta + \\epsilon,\n",
    "\\end{equation*}\n",
    "\n",
    "where $\\mathbf{X}$ corresponds to fixed effects with coefficients\n",
    "$\\beta$ and $\\epsilon$ corresponds to random noise,\n",
    "$\\epsilon\\sim\\mathcal{N}(\\mathbf{0}, \\mathbf{I})$.\n",
    "\n",
    "In a linear mixed effects model, we add an additional term\n",
    "$\\mathbf{Z}\\eta$, where $\\mathbf{Z}$ corresponds to random effects\n",
    "with coefficients $\\eta$. The model takes the form\n",
    "\n",
    "\\begin{align*}\n",
    "\\eta &\\sim \\mathcal{N}(\\mathbf{0}, \\sigma^2 \\mathbf{I}), \\\\\n",
    "\\mathbf{y} &= \\mathbf{X}\\beta + \\mathbf{Z}\\eta + \\epsilon.\n",
    "\\end{align*}\n",
    "\n",
    "Given data, the goal is to infer $\\beta$, $\\eta$, and $\\sigma^2$,\n",
    "where $\\beta$ are model parameters (\"fixed effects\"), $\\eta$ are\n",
    "latent variables (\"random effects\"), and $\\sigma^2$ is a variance\n",
    "component parameter.\n",
    "\n",
    "Because the random effects have mean 0, the data's mean is captured by\n",
    "$\\mathbf{X}\\beta$. The random effects component $\\mathbf{Z}\\eta$\n",
    "captures variations in the data (e.g.  Instructor \\#54 is rated 1.4\n",
    "points higher than the mean).\n",
    "\n",
    "A natural question is the difference between fixed and random effects.\n",
    "A fixed effect is an effect that is constant for a given population. A\n",
    "random effect is an effect that varies for a given population (i.e.,\n",
    "it may be constant within subpopulations but varies within the overall\n",
    "population). We illustrate below in our example:\n",
    "\n",
    "+ Select `service` as the fixed effect. It is a binary covariate\n",
    "corresponding to whether the lecture belongs to the lecturer's main\n",
    "department. No matter how much additional data we collect, it\n",
    "can only take on the values in $0$ and $1$.\n",
    "+ Select the categorical values of `students`, `teachers`,\n",
    "and `departments` as the random effects. Given more\n",
    "observations from the population of instructor evaluation ratings, we\n",
    "may be looking at new students, teachers, or departments.\n",
    "\n",
    "In the syntax of R's lme4 package (Bates et al., 2015), the model\n",
    "can be summarized as\n",
    "\n",
    "```\n",
    "y ~ 1 + (1|students) + (1|instructor) + (1|dept) + service\n",
    "```\n",
    "where `1` denotes an intercept term,`(1|x)` denotes a\n",
    "random effect for `x`, and `x` denotes a fixed effect."
   ]
  },
  {
   "cell_type": "code",
   "execution_count": 5,
   "metadata": {
    "autoscroll": "json-false",
    "collapsed": true,
    "ein.tags": [
     "worksheet-0"
    ],
    "slideshow": {
     "slide_type": "-"
    }
   },
   "outputs": [],
   "source": [
    "# Set up placeholders for the data inputs.\n",
    "s_ph = tf.placeholder(tf.int32, [None])\n",
    "d_ph = tf.placeholder(tf.int32, [None])\n",
    "dept_ph = tf.placeholder(tf.int32, [None])\n",
    "service_ph = tf.placeholder(tf.float32, [None])\n",
    "\n",
    "# Set up fixed effects.\n",
    "mu = tf.get_variable(\"mu\", [])\n",
    "service = tf.get_variable(\"service\", [])\n",
    "\n",
    "sigma_s = tf.sqrt(tf.exp(tf.get_variable(\"sigma_s\", [])))\n",
    "sigma_d = tf.sqrt(tf.exp(tf.get_variable(\"sigma_d\", [])))\n",
    "sigma_dept = tf.sqrt(tf.exp(tf.get_variable(\"sigma_dept\", [])))\n",
    "\n",
    "# Set up random effects.\n",
    "eta_s = Normal(loc=tf.zeros(n_s), scale=sigma_s * tf.ones(n_s))\n",
    "eta_d = Normal(loc=tf.zeros(n_d), scale=sigma_d * tf.ones(n_d))\n",
    "eta_dept = Normal(loc=tf.zeros(n_dept), scale=sigma_dept * tf.ones(n_dept))\n",
    "\n",
    "yhat = (tf.gather(eta_s, s_ph) +\n",
    "        tf.gather(eta_d, d_ph) +\n",
    "        tf.gather(eta_dept, dept_ph) +\n",
    "        mu + service * service_ph)\n",
    "y = Normal(loc=yhat, scale=tf.ones(n_obs))"
   ]
  },
  {
   "cell_type": "markdown",
   "metadata": {
    "ein.tags": [
     "worksheet-0"
    ],
    "slideshow": {
     "slide_type": "-"
    }
   },
   "source": [
    "## Inference\n",
    "\n",
    "Given data, we aim to infer the model's fixed and random effects.\n",
    "In this analysis, we use variational inference with the\n",
    "$\\text{KL}(q\\|p)$ divergence measure. We specify fully factorized\n",
    "normal approximations for the random effects and pass in all training\n",
    "data for inference. Under the algorithm, the fixed effects will be\n",
    "estimated under a variational EM scheme."
   ]
  },
  {
   "cell_type": "code",
   "execution_count": null,
   "metadata": {
    "autoscroll": "json-false",
    "collapsed": true,
    "ein.tags": [
     "worksheet-0"
    ],
    "slideshow": {
     "slide_type": "-"
    }
   },
   "outputs": [],
   "source": [
    "q_eta_s = Normal(\n",
    "    loc=tf.get_variable(\"q_eta_s/loc\", [n_s]),\n",
    "    scale=tf.nn.softplus(tf.get_variable(\"q_eta_s/scale\", [n_s])))\n",
    "q_eta_d = Normal(\n",
    "    loc=tf.get_variable(\"q_eta_d/loc\", [n_d]),\n",
    "    scale=tf.nn.softplus(tf.get_variable(\"q_eta_d/scale\", [n_d])))\n",
    "q_eta_dept = Normal(\n",
    "    loc=tf.get_variable(\"q_eta_dept/loc\", [n_dept]),\n",
    "    scale=tf.nn.softplus(tf.get_variable(\"q_eta_dept/scale\", [n_dept])))\n",
    "\n",
    "latent_vars = {\n",
    "    eta_s: q_eta_s,\n",
    "    eta_d: q_eta_d,\n",
    "    eta_dept: q_eta_dept}\n",
    "data = {\n",
    "    y: y_train,\n",
    "    s_ph: s_train,\n",
    "    d_ph: d_train,\n",
    "    dept_ph: dept_train,\n",
    "    service_ph: service_train}\n",
    "inference = ed.KLqp(latent_vars, data)"
   ]
  },
  {
   "cell_type": "markdown",
   "metadata": {
    "ein.tags": [
     "worksheet-0"
    ],
    "slideshow": {
     "slide_type": "-"
    }
   },
   "source": [
    "One way to critique the fitted model is a residual plot, i.e., a\n",
    "plot of the difference between the predicted value and the observed\n",
    "value for each data point. Below we manually run inference,\n",
    "initializing the algorithm and performing individual updates within a\n",
    "loop. We form residual plots as the algorithm progresses. This helps\n",
    "us examine how the algorithm proceeds to infer the random and fixed\n",
    "effects from data.\n",
    "\n",
    "To form residuals, we first make predictions on test data. We do this\n",
    "by copying `yhat` defined in the model and replacing its\n",
    "dependence on random effects with their inferred means. During the\n",
    "algorithm, we evaluate the predictions, feeding in test inputs.\n",
    "\n",
    "We have also fit the same model (`y ~ service + (1|dept) + (1|s) + (1|d)`, \n",
    "fit on the entire `InstEval` dataset, specifically) in `lme4`.  We \n",
    "have saved the random effect estimates and will compare them to our \n",
    "learned parameters."
   ]
  },
  {
   "cell_type": "code",
   "execution_count": null,
   "metadata": {
    "autoscroll": "json-false",
    "collapsed": true,
    "ein.tags": [
     "worksheet-0"
    ],
    "slideshow": {
     "slide_type": "-"
    }
   },
   "outputs": [],
   "source": [
    "yhat_test = ed.copy(yhat, {\n",
    "    eta_s: q_eta_s.mean(),\n",
    "    eta_d: q_eta_d.mean(),\n",
    "    eta_dept: q_eta_dept.mean()})"
   ]
  },
  {
   "cell_type": "code",
   "execution_count": null,
   "metadata": {
    "autoscroll": "json-false",
    "ein.tags": [
     "worksheet-0"
    ],
    "scrolled": false,
    "slideshow": {
     "slide_type": "-"
    }
   },
   "outputs": [],
   "source": [
    "inference.initialize(n_print=2000, n_iter=10000)\n",
    "tf.global_variables_initializer().run()\n",
    "\n",
    "for _ in range(inference.n_iter):\n",
    "  # Update and print progress of algorithm.\n",
    "  info_dict = inference.update()\n",
    "  inference.print_progress(info_dict)\n",
    "\n",
    "  t = info_dict['t']\n",
    "  if t == 1 or t % inference.n_print == 0:\n",
    "    # Make predictions on test data.\n",
    "    yhat_vals = yhat_test.eval(feed_dict={\n",
    "        s_ph: s_test,\n",
    "        d_ph: d_test,\n",
    "        dept_ph: dept_test,\n",
    "        service_ph: service_test})\n",
    "\n",
    "    # Form residual plot.\n",
    "    plt.title(\"Residuals for Predicted Ratings on Test Set\")\n",
    "    plt.xlim(-4, 4)\n",
    "    plt.ylim(0, 800)\n",
    "    plt.hist(yhat_vals - y_test, 75)\n",
    "    plt.show()"
   ]
  },
  {
   "cell_type": "markdown",
   "metadata": {
    "ein.tags": [
     "worksheet-0"
    ],
    "slideshow": {
     "slide_type": "-"
    }
   },
   "source": [
    "## Criticism\n",
    "\n",
    "Above, we described a method for diagnosing the fit of the model via\n",
    "residual plots. See the residual plot at the end of the algorithm.\n",
    "\n",
    "The residuals appear normally distributed with mean 0. This is a good\n",
    "sanity check for the model.\n",
    "\n",
    "We can also compare our learned parameters to those estimated by R's\n",
    "`lme4`.  "
   ]
  },
  {
   "cell_type": "code",
   "execution_count": null,
   "metadata": {
    "collapsed": true
   },
   "outputs": [],
   "source": [
    "student_effects_lme4 = pd.read_csv('data/insteval_student_ranefs_r.csv')\n",
    "instructor_effects_lme4 = pd.read_csv('data/insteval_instructor_ranefs_r.csv')\n",
    "dept_effects_lme4 = pd.read_csv('data/insteval_dept_ranefs_r.csv')"
   ]
  },
  {
   "cell_type": "code",
   "execution_count": null,
   "metadata": {
    "collapsed": true
   },
   "outputs": [],
   "source": [
    "student_effects_edward = q_eta_s.mean().eval()\n",
    "instructor_effects_edward = q_eta_d.mean().eval()\n",
    "dept_effects_edward = q_eta_dept.mean().eval()"
   ]
  },
  {
   "cell_type": "code",
   "execution_count": null,
   "metadata": {},
   "outputs": [],
   "source": [
    "plt.title(\"Student Effects Comparison\")\n",
    "plt.xlim(-1, 1)\n",
    "plt.ylim(-1, 1)\n",
    "plt.xlabel(\"Student Effects from lme4\")\n",
    "plt.ylabel(\"Student Effects from edward\")\n",
    "plt.scatter(student_effects_lme4[\"(Intercept)\"],\n",
    "            student_effects_edward,\n",
    "            alpha=0.25)\n",
    "plt.show()"
   ]
  },
  {
   "cell_type": "code",
   "execution_count": null,
   "metadata": {},
   "outputs": [],
   "source": [
    "plt.title(\"Instructor Effects Comparison\")\n",
    "plt.xlim(-1.5, 1.5)\n",
    "plt.ylim(-1.5, 1.5)\n",
    "plt.xlabel(\"Instructor Effects from lme4\")\n",
    "plt.ylabel(\"Instructor Effects from edward\")\n",
    "plt.scatter(instructor_effects_lme4[\"(Intercept)\"],\n",
    "            instructor_effects_edward,\n",
    "            alpha=0.25)\n",
    "plt.show()"
   ]
  },
  {
   "cell_type": "markdown",
   "metadata": {},
   "source": [
    "Great!  Our estimates for both student and instructor effects seem to\n",
    "match those from `lme4` closely.  We have set up a slightly different \n",
    "model here (for example, our overall mean is regularized, as are our\n",
    "variances for student, department, and instructor effects, which is not\n",
    "true of `lme4`s model), and we have a different inference method, so we \n",
    "should not expect to find exactly the same parameters as `lme4`.  But \n",
    "it is reassuring that they match up closely!"
   ]
  },
  {
   "cell_type": "code",
   "execution_count": null,
   "metadata": {
    "collapsed": true
   },
   "outputs": [],
   "source": [
    "#  Add in the intercept from R and edward\n",
    "dept_effects_and_intercept_lme4 = 3.28259 + dept_effects_lme4[\"(Intercept)\"]\n",
    "dept_effects_and_intercept_edward = mu.eval() + dept_effects_edward"
   ]
  },
  {
   "cell_type": "code",
   "execution_count": null,
   "metadata": {},
   "outputs": [],
   "source": [
    "plt.title(\"Departmental Effects Comparison\")\n",
    "plt.xlim(3.0, 3.5)\n",
    "plt.ylim(3.0, 3.5)\n",
    "plt.xlabel(\"Department Effects from lme4\")\n",
    "plt.ylabel(\"Department Effects from edward\")\n",
    "plt.scatter(dept_effects_and_intercept_lme4,\n",
    "            dept_effects_and_intercept_edward,\n",
    "            s=0.01 * train.dept.value_counts())\n",
    "plt.show()"
   ]
  },
  {
   "cell_type": "markdown",
   "metadata": {},
   "source": [
    "Our department effects do not match up nearly as well with those from `lme4`.  \n",
    "There are likely several reasons for this:\n",
    "  *  We regularize the overal mean, while `lme4` doesn't, which causes the\n",
    "  edward model to put some of the intercept into the department effects, \n",
    "  which are allowed to vary more widely since we learn a variance\n",
    "  *  We are using 80% of the data to train the edward model, while our `lme4`\n",
    "  estimate uses the whole `InstEval` data set\n",
    "  *  The department effects are the weakest in the model and difficult to \n",
    "  estimate."
   ]
  },
  {
   "cell_type": "markdown",
   "metadata": {
    "ein.tags": [
     "worksheet-0"
    ],
    "slideshow": {
     "slide_type": "-"
    }
   },
   "source": [
    "## Acknowledgments\n",
    "\n",
    "We thank Mayank Agrawal for writing the initial version of this\n",
    "tutorial."
   ]
  }
 ],
 "metadata": {
  "anaconda-cloud": {},
  "kernelspec": {
   "display_name": "Python 3",
   "language": "python",
   "name": "python3"
  },
  "language_info": {
   "codemirror_mode": {
    "name": "ipython",
    "version": 3
   },
   "file_extension": ".py",
   "mimetype": "text/x-python",
   "name": "python",
   "nbconvert_exporter": "python",
   "pygments_lexer": "ipython3",
   "version": "3.6.4"
  },
  "name": "linear_mixed_effects_models.ipynb"
 },
 "nbformat": 4,
 "nbformat_minor": 2
}
